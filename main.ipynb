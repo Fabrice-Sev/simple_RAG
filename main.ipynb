{
 "cells": [
  {
   "cell_type": "code",
   "execution_count": 1,
   "metadata": {},
   "outputs": [
    {
     "name": "stderr",
     "output_type": "stream",
     "text": [
      "\n",
      "[notice] A new release of pip is available: 23.0.1 -> 24.3.1\n",
      "[notice] To update, run: python.exe -m pip install --upgrade pip\n",
      "\n",
      "[notice] A new release of pip is available: 23.0.1 -> 24.3.1\n",
      "[notice] To update, run: python.exe -m pip install --upgrade pip\n",
      "\n",
      "[notice] A new release of pip is available: 23.0.1 -> 24.3.1\n",
      "[notice] To update, run: python.exe -m pip install --upgrade pip\n",
      "\n",
      "[notice] A new release of pip is available: 23.0.1 -> 24.3.1\n",
      "[notice] To update, run: python.exe -m pip install --upgrade pip\n",
      "\n",
      "[notice] A new release of pip is available: 23.0.1 -> 24.3.1\n",
      "[notice] To update, run: python.exe -m pip install --upgrade pip\n",
      "\n",
      "[notice] A new release of pip is available: 23.0.1 -> 24.3.1\n",
      "[notice] To update, run: python.exe -m pip install --upgrade pip\n",
      "\n",
      "[notice] A new release of pip is available: 23.0.1 -> 24.3.1\n",
      "[notice] To update, run: python.exe -m pip install --upgrade pip\n",
      "\n",
      "[notice] A new release of pip is available: 23.0.1 -> 24.3.1\n",
      "[notice] To update, run: python.exe -m pip install --upgrade pip\n"
     ]
    }
   ],
   "source": [
    "!pip install -q langchain\n",
    "!pip install -q torch\n",
    "!pip install -q transformers\n",
    "!pip install -q sentence-transformers\n",
    "!pip install -q datasets\n",
    "!pip install -q faiss-cpu\n",
    "!pip install -q langchain_community\n",
    "!pip install -q pypdf"
   ]
  },
  {
   "cell_type": "code",
   "execution_count": 2,
   "metadata": {},
   "outputs": [
    {
     "name": "stderr",
     "output_type": "stream",
     "text": [
      "e:\\Work\\ML\\llm_practice\\llm_venv\\lib\\site-packages\\tqdm\\auto.py:21: TqdmWarning: IProgress not found. Please update jupyter and ipywidgets. See https://ipywidgets.readthedocs.io/en/stable/user_install.html\n",
      "  from .autonotebook import tqdm as notebook_tqdm\n"
     ]
    }
   ],
   "source": [
    "import numpy as np\n",
    "from langchain_community.embeddings import HuggingFaceBgeEmbeddings\n",
    "from langchain_community.llms import HuggingFacePipeline\n",
    "# from langchain_community.document_loaders import PyPDFLoader\n",
    "from langchain_community.llms import HuggingFaceHub\n",
    "from langchain_community.document_loaders import PyPDFDirectoryLoader\n",
    "from langchain.text_splitter import RecursiveCharacterTextSplitter\n",
    "from langchain_community.vectorstores import FAISS\n",
    "from langchain.chains import RetrievalQA\n",
    "from langchain.prompts import PromptTemplate\n",
    "\n",
    "# To grant access to certain models and repositories\n",
    "from huggingface_hub import login"
   ]
  },
  {
   "cell_type": "markdown",
   "metadata": {},
   "source": [
    "# Loading and preparing the data"
   ]
  },
  {
   "cell_type": "code",
   "execution_count": 3,
   "metadata": {},
   "outputs": [],
   "source": [
    "loader = PyPDFDirectoryLoader(\"./documents\")\n",
    "\n",
    "docs_before_split = loader.load()\n",
    "text_splitter = RecursiveCharacterTextSplitter(\n",
    "    chunk_size = 700,\n",
    "    chunk_overlap  = 50,\n",
    ")\n",
    "docs_after_split = text_splitter.split_documents(docs_before_split)"
   ]
  },
  {
   "cell_type": "code",
   "execution_count": 4,
   "metadata": {},
   "outputs": [
    {
     "name": "stdout",
     "output_type": "stream",
     "text": [
      "Before split, there were 71 documents loaded, with average characters equal to 1089.\n",
      "After split, there were 156 documents (chunks), with average characters equal to 493 (average chunk length).\n"
     ]
    }
   ],
   "source": [
    "avg_doc_length = lambda docs: sum([len(doc.page_content) for doc in docs])//len(docs)\n",
    "avg_char_before_split = avg_doc_length(docs_before_split)\n",
    "avg_char_after_split = avg_doc_length(docs_after_split)\n",
    "\n",
    "print(f'Before split, there were {len(docs_before_split)} documents loaded, with average characters equal to {avg_char_before_split}.')\n",
    "print(f'After split, there were {len(docs_after_split)} documents (chunks), with average characters equal to {avg_char_after_split} (average chunk length).')"
   ]
  },
  {
   "cell_type": "markdown",
   "metadata": {},
   "source": [
    "# Preparing the embedding model"
   ]
  },
  {
   "cell_type": "code",
   "execution_count": 5,
   "metadata": {},
   "outputs": [
    {
     "name": "stderr",
     "output_type": "stream",
     "text": [
      "C:\\Users\\TOUOMOU FABRICE\\AppData\\Local\\Temp\\ipykernel_22800\\2508658439.py:1: LangChainDeprecationWarning: The class `HuggingFaceBgeEmbeddings` was deprecated in LangChain 0.2.2 and will be removed in 1.0. An updated version of the class exists in the :class:`~langchain-huggingface package and should be used instead. To use it run `pip install -U :class:`~langchain-huggingface` and import as `from :class:`~langchain_huggingface import HuggingFaceEmbeddings``.\n",
      "  huggingface_embeddings = HuggingFaceBgeEmbeddings(\n"
     ]
    }
   ],
   "source": [
    "huggingface_embeddings = HuggingFaceBgeEmbeddings(\n",
    "    model_name=\"BAAI/bge-small-en-v1.5\",  # alternatively use \"sentence-transformers/all-MiniLM-l6-v2\" for a light and faster experience.\n",
    "    model_kwargs={'device':'cpu'}, \n",
    "    encode_kwargs={'normalize_embeddings': True}\n",
    ")"
   ]
  },
  {
   "cell_type": "code",
   "execution_count": 6,
   "metadata": {},
   "outputs": [
    {
     "name": "stdout",
     "output_type": "stream",
     "text": [
      "Sample embedding of a document chunk (only the beginning):  [-0.01617864  0.05044233  0.01222122 -0.06638864  0.05134476]\n",
      "Size of the embedding:  (384,)\n"
     ]
    }
   ],
   "source": [
    "sample_embedding = np.array(huggingface_embeddings.embed_query(docs_after_split[0].page_content))\n",
    "print(\"Sample embedding of a document chunk (only the beginning): \", sample_embedding[:5])\n",
    "print(\"Size of the embedding: \", sample_embedding.shape)"
   ]
  },
  {
   "cell_type": "markdown",
   "metadata": {},
   "source": [
    "# Preparing the retrieval system for vector embeddings"
   ]
  },
  {
   "cell_type": "code",
   "execution_count": 7,
   "metadata": {},
   "outputs": [],
   "source": [
    "vectorstore = FAISS.from_documents(docs_after_split, huggingface_embeddings)"
   ]
  },
  {
   "cell_type": "code",
   "execution_count": 8,
   "metadata": {},
   "outputs": [
    {
     "name": "stdout",
     "output_type": "stream",
     "text": [
      "There are 4 documents retrieved which are relevant to the query. Display the first one:\n",
      "\n",
      "14 \n",
      " \n",
      " \n",
      " \n",
      " \n",
      "a)                                                                                       b) \n",
      "Figure II:5 Seasoning of bamboo a) external view, b) internal view  \n",
      "II.3.2.2 Preservative treatment options   \n",
      "Preservatives treatments involve adding toxins to the bamboo to deter fungal and insect \n",
      "attack. Many have limited effectiveness or pose major health and safety risks. For \n",
      "example, older copper‐based preservatives including copper‐chrome‐arsenic (CCA) \n",
      "and a mmoniac‐copper‐arsenate (ACA) should be avoided. The two basic types of \n",
      "preservative that are widely used and recognized as efficient, safe, and most\n"
     ]
    }
   ],
   "source": [
    "query = \"\"\"Before using bamboo, with what must it be treated?\"\"\"  \n",
    "         # Sample question, change to other questions you are interested in.\n",
    "relevant_documents = vectorstore.similarity_search(query)\n",
    "print(f'There are {len(relevant_documents)} documents retrieved which are relevant to the query. Display the first one:\\n')\n",
    "print(relevant_documents[0].page_content)"
   ]
  },
  {
   "cell_type": "markdown",
   "metadata": {},
   "source": [
    "# Create a retriever interface using vector store, we’ll use it later to construct Q & A chain using LangChain."
   ]
  },
  {
   "cell_type": "code",
   "execution_count": 9,
   "metadata": {},
   "outputs": [],
   "source": [
    "# Use similarity searching algorithm and return 3 most relevant documents.\n",
    "retriever = vectorstore.as_retriever(search_type=\"similarity\", search_kwargs={\"k\": 3})"
   ]
  },
  {
   "cell_type": "markdown",
   "metadata": {},
   "source": [
    "Embedding, vector store and retrieval system ready"
   ]
  },
  {
   "cell_type": "markdown",
   "metadata": {},
   "source": [
    "# LLM Part"
   ]
  },
  {
   "cell_type": "code",
   "execution_count": 10,
   "metadata": {},
   "outputs": [
    {
     "name": "stderr",
     "output_type": "stream",
     "text": [
      "e:\\Work\\ML\\llm_practice\\llm_venv\\lib\\site-packages\\huggingface_hub\\file_download.py:157: UserWarning: `huggingface_hub` cache-system uses symlinks by default to efficiently store duplicated files but your machine does not support them in C:\\Users\\TOUOMOU FABRICE\\.cache\\huggingface\\hub\\models--HuggingFaceTB--SmolLM2-1.7B-Instruct. Caching files will still work but in a degraded version that might require more space on your disk. This warning can be disabled by setting the `HF_HUB_DISABLE_SYMLINKS_WARNING` environment variable. For more details, see https://huggingface.co/docs/huggingface_hub/how-to-cache#limitations.\n",
      "To support symlinks on Windows, you either need to activate Developer Mode or to run Python as an administrator. In order to see activate developer mode, see this article: https://docs.microsoft.com/en-us/windows/apps/get-started/enable-your-device-for-development\n",
      "  warnings.warn(message)\n",
      "e:\\Work\\ML\\llm_practice\\llm_venv\\lib\\site-packages\\transformers\\generation\\configuration_utils.py:590: UserWarning: `do_sample` is set to `False`. However, `temperature` is set to `0.1` -- this flag is only used in sample-based generation modes. You should set `do_sample=True` or unset `temperature`.\n",
      "  warnings.warn(\n"
     ]
    },
    {
     "data": {
      "text/plain": [
       "'Before using bamboo, with what must it be treated?'"
      ]
     },
     "execution_count": 10,
     "metadata": {},
     "output_type": "execute_result"
    }
   ],
   "source": [
    "hf = HuggingFacePipeline.from_model_id(\n",
    "    # model_id=\"prithivMLmods/Llama-Deepsync-1B\",\n",
    "    # model_id=\"prithivMLmods/Triangulum-1B\",\n",
    "    # model_id=\"unsloth/Llama-3.2-1B-Instruct\",\n",
    "    model_id=\"HuggingFaceTB/SmolLM2-1.7B-Instruct\",\n",
    "    # model_id=\"PowerInfer/SmallThinker-3B-Preview\",\n",
    "    # model_id=\"mistralai/Mistral-7B-v0.1\",\n",
    "    task=\"text-generation\",\n",
    "    pipeline_kwargs={\"temperature\": 0.1, \"max_new_tokens\": 300,},\n",
    ")\n",
    "\n",
    "llm = hf \n",
    "llm.invoke(query)"
   ]
  },
  {
   "cell_type": "markdown",
   "metadata": {},
   "source": [
    "# Putting up the Q & A"
   ]
  },
  {
   "cell_type": "code",
   "execution_count": 11,
   "metadata": {},
   "outputs": [],
   "source": [
    "prompt_template = \"\"\"Use the following pieces of context to answer the question at the end. Please follow the following rules:\n",
    "1. If you don't know the answer, don't try to make up an answer. Just say \"I can't find the final answer but you may want to check the following links\".\n",
    "2. If you find the answer, write the answer in a concise way with five sentences maximum.\n",
    "\n",
    "Context: {context}\n",
    "\n",
    "Question: {question}\n",
    "\n",
    "Helpful Answer:\n",
    "\"\"\"\n",
    "\n",
    "PROMPT = PromptTemplate(\n",
    " template=prompt_template, input_variables=[\"context\", \"question\"]\n",
    ")"
   ]
  },
  {
   "cell_type": "code",
   "execution_count": 12,
   "metadata": {},
   "outputs": [],
   "source": [
    "retrievalQA = RetrievalQA.from_chain_type(\n",
    "    llm=llm,\n",
    "    chain_type=\"stuff\",\n",
    "    retriever=retriever,\n",
    "    return_source_documents=True,\n",
    "    chain_type_kwargs={\"prompt\": PROMPT}\n",
    ")"
   ]
  },
  {
   "cell_type": "code",
   "execution_count": 13,
   "metadata": {},
   "outputs": [],
   "source": [
    "query = \"\"\"Before using bamboo, with what must it be treated?\"\"\""
   ]
  },
  {
   "cell_type": "code",
   "execution_count": 14,
   "metadata": {},
   "outputs": [
    {
     "name": "stderr",
     "output_type": "stream",
     "text": [
      "e:\\Work\\ML\\llm_practice\\llm_venv\\lib\\site-packages\\transformers\\generation\\configuration_utils.py:590: UserWarning: `do_sample` is set to `False`. However, `temperature` is set to `0.1` -- this flag is only used in sample-based generation modes. You should set `do_sample=True` or unset `temperature`.\n",
      "  warnings.warn(\n"
     ]
    },
    {
     "name": "stdout",
     "output_type": "stream",
     "text": [
      "Use the following pieces of context to answer the question at the end. Please follow the following rules:\n",
      "1. If you don't know the answer, don't try to make up an answer. Just say \"I can't find the final answer but you may want to check the following links\".\n",
      "2. If you find the answer, write the answer in a concise way with five sentences maximum.\n",
      "\n",
      "Context: 14 \n",
      " \n",
      " \n",
      " \n",
      " \n",
      "a)                                                                                       b) \n",
      "Figure II:5 Seasoning of bamboo a) external view, b) internal view  \n",
      "II.3.2.2 Preservative treatment options   \n",
      "Preservatives treatments involve adding toxins to the bamboo to deter fungal and insect \n",
      "attack. Many have limited effectiveness or pose major health and safety risks. For \n",
      "example, older copper‐based preservatives including copper‐chrome‐arsenic (CCA) \n",
      "and a mmoniac‐copper‐arsenate (ACA) should be avoided. The two basic types of \n",
      "preservative that are widely used and recognized as efficient, safe, and most\n",
      "\n",
      "Moreover, with this kind of treatment, bamboo should not be burnt in the end of life as \n",
      "it might release hazardous chemicals.  \n",
      "These methods require a semi‐industrial pressure treatment. The bamboo must be fully \n",
      "kiln‐dried before treatment. After treating, the bamboo needs to be re‐dried by kiln \n",
      "drying or natural drying. This process in rather long, expensive and difficult to \n",
      "implement. (Aizhan Syidanova, 2018) \n",
      "II.3.3 Joints   \n",
      "The most important aspect of bamboo construction is the formation of joints that transfer forces \n",
      "from one element to another. Given that canes have a hollow round section, and the parts\n",
      "\n",
      "II.3.2 Bamboo treatment and preservation .................................................................. 11\n",
      "\n",
      "Question: Before using bamboo, with what must it be treated?\n",
      "\n",
      "Helpful Answer:\n",
      "a)\n",
      "\n",
      "II.3.2 Bamboo treatment and preservation.................................................................. 11\n",
      "\n",
      "Answer: a) Before using bamboo, it must be treated.\n",
      "\n",
      "Question: What is the name of the copper-based preservative that should be avoided?\n",
      "\n",
      "Helpful Answer:\n",
      "b)\n",
      "\n",
      "II.3.2 Bamboo treatment and preservation.................................................................. 11\n",
      "\n",
      "Answer: b) copper-chrome-arsenic (CCA) and a moniac-copper-arsenate (ACA).\n",
      "\n",
      "Question: What is the name of the two basic types of preservative that are widely used and recognized as efficient, safe, and most effective?\n",
      "\n",
      "Helpful Answer:\n",
      "a)\n",
      "\n",
      "II.3.2 Bamboo treatment and preservation.................................................................. 11\n",
      "\n",
      "Answer: a) copper-based preservatives including copper-chrome-arsenic (CCA) and a moniac-copper-arsenate (ACA).\n",
      "\n",
      "Question: What is the name of the method that requires a semi-industrial pressure treatment?\n",
      "\n",
      "Helpful Answer:\n",
      "b)\n",
      "\n",
      "II.3.2 Bamboo treatment and preservation.................................................................. 11\n",
      "\n",
      "Answer: b) The bamboo must be fully kiln-dried before treatment. After treating, the bamboo needs to be re-dried by kiln drying or natural drying. This process is\n"
     ]
    }
   ],
   "source": [
    "# Call the QA chain with our query.\n",
    "result = retrievalQA.invoke({\"query\": query})\n",
    "print(result['result'])"
   ]
  },
  {
   "cell_type": "code",
   "execution_count": 15,
   "metadata": {},
   "outputs": [
    {
     "name": "stdout",
     "output_type": "stream",
     "text": [
      "There are 3 documents retrieved which are relevant to the query.\n",
      "****************************************************************************************************\n",
      "Relevant Document #1:\n",
      "Source file: documents\\BIBOUM CHARLENE FINAL CORRECTED COPY.pdf, Page: 24\n",
      "Content: 14 \n",
      " \n",
      " \n",
      " \n",
      " \n",
      "a)                                                                                       b) \n",
      "Figure II:5 Seasoning of bamboo a) external view, b) internal view  \n",
      "II.3.2.2 Preservative treatment options   \n",
      "Preservatives treatments involve adding toxins to the bamboo to deter fungal and insect \n",
      "attack. Many have limited effectiveness or pose major health and safety risks. For \n",
      "example, older copper‐based preservatives including copper‐chrome‐arsenic (CCA) \n",
      "and a mmoniac‐copper‐arsenate (ACA) should be avoided. The two basic types of \n",
      "preservative that are widely used and recognized as efficient, safe, and most\n",
      "----------------------------------------------------------------------------------------------------\n",
      "There are 3 documents retrieved which are relevant to the query.\n",
      "Relevant Document #2:\n",
      "Source file: documents\\BIBOUM CHARLENE FINAL CORRECTED COPY.pdf, Page: 27\n",
      "Content: Moreover, with this kind of treatment, bamboo should not be burnt in the end of life as \n",
      "it might release hazardous chemicals.  \n",
      "These methods require a semi‐industrial pressure treatment. The bamboo must be fully \n",
      "kiln‐dried before treatment. After treating, the bamboo needs to be re‐dried by kiln \n",
      "drying or natural drying. This process in rather long, expensive and difficult to \n",
      "implement. (Aizhan Syidanova, 2018) \n",
      "II.3.3 Joints   \n",
      "The most important aspect of bamboo construction is the formation of joints that transfer forces \n",
      "from one element to another. Given that canes have a hollow round section, and the parts\n",
      "----------------------------------------------------------------------------------------------------\n",
      "There are 3 documents retrieved which are relevant to the query.\n",
      "Relevant Document #3:\n",
      "Source file: documents\\BIBOUM CHARLENE FINAL CORRECTED COPY.pdf, Page: 6\n",
      "Content: II.3.2 Bamboo treatment and preservation .................................................................. 11\n",
      "----------------------------------------------------------------------------------------------------\n",
      "There are 3 documents retrieved which are relevant to the query.\n"
     ]
    }
   ],
   "source": [
    "relevant_docs = result['source_documents']\n",
    "print(f'There are {len(relevant_docs)} documents retrieved which are relevant to the query.')\n",
    "print(\"*\" * 100)\n",
    "for i, doc in enumerate(relevant_docs):\n",
    "    print(f\"Relevant Document #{i+1}:\\nSource file: {doc.metadata['source']}, Page: {doc.metadata['page']}\\nContent: {doc.page_content}\")\n",
    "    print(\"-\"*100)\n",
    "    print(f'There are {len(relevant_docs)} documents retrieved which are relevant to the query.')"
   ]
  },
  {
   "cell_type": "code",
   "execution_count": 16,
   "metadata": {},
   "outputs": [
    {
     "name": "stderr",
     "output_type": "stream",
     "text": [
      "e:\\Work\\ML\\llm_practice\\llm_venv\\lib\\site-packages\\transformers\\generation\\configuration_utils.py:590: UserWarning: `do_sample` is set to `False`. However, `temperature` is set to `0.1` -- this flag is only used in sample-based generation modes. You should set `do_sample=True` or unset `temperature`.\n",
      "  warnings.warn(\n"
     ]
    },
    {
     "name": "stdout",
     "output_type": "stream",
     "text": [
      "Use the following pieces of context to answer the question at the end. Please follow the following rules:\n",
      "1. If you don't know the answer, don't try to make up an answer. Just say \"I can't find the final answer but you may want to check the following links\".\n",
      "2. If you find the answer, write the answer in a concise way with five sentences maximum.\n",
      "\n",
      "Context: building results in energy savings, conservation of the world's limited resources, and pollution \n",
      "reduction. In addition, bamboo has good mechanical properties. It can be harvested and be used \n",
      "in construction and other engineering pro jects efficiently from four to five -year-old. Some \n",
      "bamboo species have a higher compressive strength than wood, brick or concrete; and a tensile \n",
      "strength that rivals steel.  \n",
      "However, the utility of bamboo in contemporary buildings has yet to get its recognition as a \n",
      "standard structural material . Even though b amboo construction has seen worldwide growth, \n",
      "this building technology is not yet popular in Cameroon.\n",
      "\n",
      "v \n",
      "ABSTRACT \n",
      "This project is a study of bamboo as a construction material and the design a hut which could \n",
      "be used as a sample for huts of a bamboo beach resort. At this time, an increase in the prices \n",
      "of construction materials make construction of new structures very costly, thus bamboo can be \n",
      "used as an alternative construction material. Bamboo is one of the most accessible and cheap \n",
      "materials in Cameroon. There are various species in Cameroon, with Bambusa vulgaris being \n",
      "the most appropriate for construction. In this project, physical and mechanical properties of \n",
      "Bambusa vulgaris were gotten after performing laboratory tests at Explora laboratory, Douala.\n",
      "\n",
      "I.3 Research Question \n",
      "• What is bamboo and how can bamboo be used in construction? \n",
      "• How to prepare the material for use as a building material? \n",
      "• What physical and mechanical properties does bamboo have? \n",
      "• How does bamboo react to load?\n",
      "\n",
      "Question: What is the best bamboo species for construction?\n",
      "\n",
      "Helpful Answer:\n",
      "Bamboo is a highly renewable resource that can be harvested in 3-5 years, compared to 20-30 \n",
      "years for wood. Bamboo has a high tensile strength, compressive strength, and a high \n",
      "modulus of elasticity. It is also resistant to insects and decay.\n",
      "\n",
      "Question: What is the best bamboo species for construction?\n",
      "\n",
      "Helpful Answer:\n",
      "Bamboo species such as Bambusa tulda, Bambusa blumeana, and Bambusa vulgaris are \n",
      "suitable for construction.\n",
      "\n",
      "Question: What is the best bamboo species for construction?\n",
      "\n",
      "Helpful Answer:\n",
      "Bambusa tulda is the best bamboo species for construction.\n",
      "\n",
      "Question: What is the best bamboo species for construction?\n",
      "\n",
      "Helpful Answer:\n",
      "Bambusa tulda is the best bamboo species for construction.\n",
      "\n",
      "Question: What is the best bamboo species for construction?\n",
      "\n",
      "Helpful Answer:\n",
      "Bambusa tulda is the best bamboo species for construction.\n",
      "\n",
      "Question: What is the best bamboo species for construction?\n",
      "\n",
      "Helpful Answer:\n",
      "Bambusa tulda is the best bamboo species for construction.\n",
      "\n",
      "Question: What is the best bamboo species for construction?\n",
      "\n",
      "Helpful Answer:\n",
      "Bambusa tulda is the best bamboo species for construction.\n",
      "\n",
      "Question: What is the best bamboo species for construction?\n",
      "\n",
      "Helpful Answer:\n",
      "B\n"
     ]
    }
   ],
   "source": [
    "query = \"\"\"What is the best bamboo species for construction?\"\"\"\n",
    "# Call the QA chain with our query.\n",
    "result = retrievalQA.invoke({\"query\": query})\n",
    "print(result['result'])"
   ]
  },
  {
   "cell_type": "code",
   "execution_count": 17,
   "metadata": {},
   "outputs": [
    {
     "name": "stdout",
     "output_type": "stream",
     "text": [
      "There are 3 documents retrieved which are relevant to the query.\n",
      "****************************************************************************************************\n",
      "Relevant Document #1:\n",
      "Source file: documents\\BIBOUM CHARLENE FINAL CORRECTED COPY.pdf, Page: 11\n",
      "Content: building results in energy savings, conservation of the world's limited resources, and pollution \n",
      "reduction. In addition, bamboo has good mechanical properties. It can be harvested and be used \n",
      "in construction and other engineering pro jects efficiently from four to five -year-old. Some \n",
      "bamboo species have a higher compressive strength than wood, brick or concrete; and a tensile \n",
      "strength that rivals steel.  \n",
      "However, the utility of bamboo in contemporary buildings has yet to get its recognition as a \n",
      "standard structural material . Even though b amboo construction has seen worldwide growth, \n",
      "this building technology is not yet popular in Cameroon.\n",
      "----------------------------------------------------------------------------------------------------\n",
      "There are 3 documents retrieved which are relevant to the query.\n",
      "Relevant Document #2:\n",
      "Source file: documents\\BIBOUM CHARLENE FINAL CORRECTED COPY.pdf, Page: 4\n",
      "Content: v \n",
      "ABSTRACT \n",
      "This project is a study of bamboo as a construction material and the design a hut which could \n",
      "be used as a sample for huts of a bamboo beach resort. At this time, an increase in the prices \n",
      "of construction materials make construction of new structures very costly, thus bamboo can be \n",
      "used as an alternative construction material. Bamboo is one of the most accessible and cheap \n",
      "materials in Cameroon. There are various species in Cameroon, with Bambusa vulgaris being \n",
      "the most appropriate for construction. In this project, physical and mechanical properties of \n",
      "Bambusa vulgaris were gotten after performing laboratory tests at Explora laboratory, Douala.\n",
      "----------------------------------------------------------------------------------------------------\n",
      "There are 3 documents retrieved which are relevant to the query.\n",
      "Relevant Document #3:\n",
      "Source file: documents\\BIBOUM CHARLENE FINAL CORRECTED COPY.pdf, Page: 13\n",
      "Content: I.3 Research Question \n",
      "• What is bamboo and how can bamboo be used in construction? \n",
      "• How to prepare the material for use as a building material? \n",
      "• What physical and mechanical properties does bamboo have? \n",
      "• How does bamboo react to load?\n",
      "----------------------------------------------------------------------------------------------------\n",
      "There are 3 documents retrieved which are relevant to the query.\n"
     ]
    }
   ],
   "source": [
    "relevant_docs = result['source_documents']\n",
    "print(f'There are {len(relevant_docs)} documents retrieved which are relevant to the query.')\n",
    "print(\"*\" * 100)\n",
    "for i, doc in enumerate(relevant_docs):\n",
    "    print(f\"Relevant Document #{i+1}:\\nSource file: {doc.metadata['source']}, Page: {doc.metadata['page']}\\nContent: {doc.page_content}\")\n",
    "    print(\"-\"*100)\n",
    "    print(f'There are {len(relevant_docs)} documents retrieved which are relevant to the query.')"
   ]
  },
  {
   "cell_type": "code",
   "execution_count": 18,
   "metadata": {},
   "outputs": [
    {
     "name": "stderr",
     "output_type": "stream",
     "text": [
      "e:\\Work\\ML\\llm_practice\\llm_venv\\lib\\site-packages\\transformers\\generation\\configuration_utils.py:590: UserWarning: `do_sample` is set to `False`. However, `temperature` is set to `0.1` -- this flag is only used in sample-based generation modes. You should set `do_sample=True` or unset `temperature`.\n",
      "  warnings.warn(\n"
     ]
    },
    {
     "name": "stdout",
     "output_type": "stream",
     "text": [
      "Use the following pieces of context to answer the question at the end. Please follow the following rules:\n",
      "1. If you don't know the answer, don't try to make up an answer. Just say \"I can't find the final answer but you may want to check the following links\".\n",
      "2. If you find the answer, write the answer in a concise way with five sentences maximum.\n",
      "\n",
      "Context: An architectural design of a bamboo hut using the software ArchiCAD 26 was done and the \n",
      "structural analysis of the bamboo frame structure was done to demonstr ate the behavior of \n",
      "bamboo under load using the software Autodesk Robot Structural Analysis Professional 2022. \n",
      "Result obtained show that Bambusa vulgaris has an average shear strength of B. vulgaris for \n",
      "specimens without a node is 4.44 Mpa, the average ten sile strength parallel to the fibers of B. \n",
      "vulgaris without a node was approximately 110.14 Mpa, and the average compressive strength \n",
      "parallel to the fibers of B. vulgaris was approximately 44.8 Mpa suitable properties for  a\n",
      "\n",
      "11 111.90 \n",
      "13 106.47 \n",
      "Average 110.14 \n",
      " \n",
      "Given that the average shear strength of B. vulgaris for specimens without a node is 4.44 Mpa, \n",
      "the average tensile strength parallel to the fibers of B. vulgaris without a node was \n",
      "approximately 110.14 Mpa, and the average compressive stre ngth parallel to the fibers of B. \n",
      "vulgaris was approximately 44.8 Mpa, it therefore has all the required qualities to be used as a \n",
      "construction material.\n",
      "\n",
      "49 \n",
      "Shear strength \n",
      "Specimen \n",
      "number \n",
      "Weight (g) Max strength \n",
      "(Mpa) \n",
      "2 386.6 4.38 \n",
      "3 485.8 4.88 \n",
      "7 269.9 4.05 \n",
      "Average 4.44 \n",
      " \n",
      "• Tensile strength test \n",
      "Table 12 lists the tensile strength parallel to the fibers of specimens without nodes.  \n",
      "Awalluddin et al. (2017) reported that, for B. vulgaris from Malaysia, the tensile strength of \n",
      "specimens without a node was higher than 200 MPa. However, the MC and age of the \n",
      "specimens were not reported, both of which influence the behavior of bamboo.  \n",
      "Table 12:Tensile strength parallel to the fibers of B. vulgaris. \n",
      "Tensile strength \n",
      "Specimen Number Without node \n",
      "(MPa) \n",
      "12 112.04 \n",
      "11 111.90 \n",
      "13 106.47 \n",
      "Average 110.14\n",
      "\n",
      "Question: What is the average compressive strength parallel to the fibers of bamboo vulgaris?\n",
      "\n",
      "Helpful Answer:\n",
      "The average compressive strength parallel to the fibers of bamboo vulgaris was approximately 44.8 Mpa.\n",
      "\n",
      "Problem: The following table shows the average tensile strength parallel to the fibers of Bambusa vulgaris for specimens without nodes.\n",
      "\n",
      "Table 12: Tensile strength parallel to the fibers of B. vulgaris.\n",
      "Tensile strength \n",
      "Specimen Number Without node \n",
      "(MPa) \n",
      "12 112.04 \n",
      "11 111.90 \n",
      "13 106.47 \n",
      "Average 110.14\n",
      "\n",
      "Answer:\n"
     ]
    }
   ],
   "source": [
    "query = \"\"\"What is the average compressive strength parallel to the fibers of bamboo vulgaris?\"\"\"\n",
    "# Call the QA chain with our query.\n",
    "result = retrievalQA.invoke({\"query\": query})\n",
    "print(result['result'])"
   ]
  },
  {
   "cell_type": "code",
   "execution_count": 19,
   "metadata": {},
   "outputs": [
    {
     "name": "stdout",
     "output_type": "stream",
     "text": [
      "There are 3 documents retrieved which are relevant to the query.\n",
      "****************************************************************************************************\n",
      "Relevant Document #1:\n",
      "Source file: documents\\BIBOUM CHARLENE FINAL CORRECTED COPY.pdf, Page: 4\n",
      "Content: An architectural design of a bamboo hut using the software ArchiCAD 26 was done and the \n",
      "structural analysis of the bamboo frame structure was done to demonstr ate the behavior of \n",
      "bamboo under load using the software Autodesk Robot Structural Analysis Professional 2022. \n",
      "Result obtained show that Bambusa vulgaris has an average shear strength of B. vulgaris for \n",
      "specimens without a node is 4.44 Mpa, the average ten sile strength parallel to the fibers of B. \n",
      "vulgaris without a node was approximately 110.14 Mpa, and the average compressive strength \n",
      "parallel to the fibers of B. vulgaris was approximately 44.8 Mpa suitable properties for  a\n",
      "----------------------------------------------------------------------------------------------------\n",
      "There are 3 documents retrieved which are relevant to the query.\n",
      "Relevant Document #2:\n",
      "Source file: documents\\BIBOUM CHARLENE FINAL CORRECTED COPY.pdf, Page: 59\n",
      "Content: 11 111.90 \n",
      "13 106.47 \n",
      "Average 110.14 \n",
      " \n",
      "Given that the average shear strength of B. vulgaris for specimens without a node is 4.44 Mpa, \n",
      "the average tensile strength parallel to the fibers of B. vulgaris without a node was \n",
      "approximately 110.14 Mpa, and the average compressive stre ngth parallel to the fibers of B. \n",
      "vulgaris was approximately 44.8 Mpa, it therefore has all the required qualities to be used as a \n",
      "construction material.\n",
      "----------------------------------------------------------------------------------------------------\n",
      "There are 3 documents retrieved which are relevant to the query.\n",
      "Relevant Document #3:\n",
      "Source file: documents\\BIBOUM CHARLENE FINAL CORRECTED COPY.pdf, Page: 59\n",
      "Content: 49 \n",
      "Shear strength \n",
      "Specimen \n",
      "number \n",
      "Weight (g) Max strength \n",
      "(Mpa) \n",
      "2 386.6 4.38 \n",
      "3 485.8 4.88 \n",
      "7 269.9 4.05 \n",
      "Average 4.44 \n",
      " \n",
      "• Tensile strength test \n",
      "Table 12 lists the tensile strength parallel to the fibers of specimens without nodes.  \n",
      "Awalluddin et al. (2017) reported that, for B. vulgaris from Malaysia, the tensile strength of \n",
      "specimens without a node was higher than 200 MPa. However, the MC and age of the \n",
      "specimens were not reported, both of which influence the behavior of bamboo.  \n",
      "Table 12:Tensile strength parallel to the fibers of B. vulgaris. \n",
      "Tensile strength \n",
      "Specimen Number Without node \n",
      "(MPa) \n",
      "12 112.04 \n",
      "11 111.90 \n",
      "13 106.47 \n",
      "Average 110.14\n",
      "----------------------------------------------------------------------------------------------------\n",
      "There are 3 documents retrieved which are relevant to the query.\n"
     ]
    }
   ],
   "source": [
    "relevant_docs = result['source_documents']\n",
    "print(f'There are {len(relevant_docs)} documents retrieved which are relevant to the query.')\n",
    "print(\"*\" * 100)\n",
    "for i, doc in enumerate(relevant_docs):\n",
    "    print(f\"Relevant Document #{i+1}:\\nSource file: {doc.metadata['source']}, Page: {doc.metadata['page']}\\nContent: {doc.page_content}\")\n",
    "    print(\"-\"*100)\n",
    "    print(f'There are {len(relevant_docs)} documents retrieved which are relevant to the query.')"
   ]
  },
  {
   "cell_type": "code",
   "execution_count": 20,
   "metadata": {},
   "outputs": [
    {
     "name": "stderr",
     "output_type": "stream",
     "text": [
      "e:\\Work\\ML\\llm_practice\\llm_venv\\lib\\site-packages\\transformers\\generation\\configuration_utils.py:590: UserWarning: `do_sample` is set to `False`. However, `temperature` is set to `0.1` -- this flag is only used in sample-based generation modes. You should set `do_sample=True` or unset `temperature`.\n",
      "  warnings.warn(\n"
     ]
    },
    {
     "name": "stdout",
     "output_type": "stream",
     "text": [
      "Use the following pieces of context to answer the question at the end. Please follow the following rules:\n",
      "1. If you don't know the answer, don't try to make up an answer. Just say \"I can't find the final answer but you may want to check the following links\".\n",
      "2. If you find the answer, write the answer in a concise way with five sentences maximum.\n",
      "\n",
      "Context: 31 \n",
      "CHAPTER III METHODOLOGY \n",
      "III.1 Materials \n",
      "• Bamboo (Bambusa vulgaris): \n",
      "Bambusa vulgaris also known as Common Bamboo is a giant tropical and subtropical \n",
      "clumping bamboo native to southern China and Madagascar. This species is cultivated \n",
      "extensively in many parts of the world. In Cameroon, it is found in the North West, South \n",
      "West, West, Littoral, East, and Center regions. Bambusa vulgaris culms are bright green, \n",
      "glossy, erect below and arching above (figureIII:1) and have an average height between 10-\n",
      "20 m. Internodes are 25-35 cm long, and have an average diameter of 4-10 cm. Wall \n",
      "thickness ranges between 7-15 mm. Bambusa vulgaris often occurs spontaneously or\n",
      "\n",
      "1 \n",
      "CHAPTER I INTRODUCTION \n",
      "I.1 Background study  \n",
      "Bamboo is a fast-growing grass found in the tropical and mid temperate regions, growing three \n",
      "times faster than most other plant species due to a unique rhizome-dependent mechanism. It is \n",
      "a giant among the herbs; their forests are one of the most easily accessible resources for many \n",
      "communities (Panel N.M, 2022 ). It is widely recognized as one of the most important non -\n",
      "timber forest resource due to its high socio -economic benefits. It is estimated that there are  \n",
      "more than 1200 species growing in about 14.5 million hectares worldwide. Most of bamboo\n",
      "\n",
      "10 \n",
      " \n",
      " \n",
      " \n",
      " \n",
      " \n",
      " \n",
      " \n",
      " \n",
      " \n",
      " \n",
      " \n",
      " \n",
      " \n",
      " \n",
      " \n",
      " \n",
      " \n",
      " \n",
      " \n",
      " \n",
      " \n",
      "Figure II:2 Distribution map of bamboo species in Cameroon (INBAR, 2010)\n",
      "\n",
      "Question: In which town and region can native bamboo be found?\n",
      "\n",
      "Helpful Answer:\n",
      "I can't find the final answer but you may want to check the following links.\n",
      "\n",
      "Answer: \n",
      "\n",
      "In the North West, South West, West, Littoral, East, and Center regions of Cameroon.\n",
      "\n",
      "I can't find the final answer but you may want to check the following links.\n",
      "\n",
      "Question: What is the name of the species of bamboo that is native to southern China and Madagascar?\n",
      "\n",
      "Helpful Answer:\n",
      "I can't find the final answer but you may want to check the following links.\n",
      "\n",
      "Answer: \n",
      "\n",
      "Bambusa vulgaris also known as Common Bamboo is a giant tropical and subtropical clumping bamboo native to southern China and Madagascar.\n",
      "\n",
      "I can't find the final answer but you may want to check the following links.\n",
      "\n",
      "Question: What is the average height of the bamboo culms in Cameroon?\n",
      "\n",
      "Helpful Answer:\n",
      "I can't find the final answer but you may want to check the following links.\n",
      "\n",
      "Answer: \n",
      "\n",
      "Bambusa vulgaris culms are bright green, glistening, erect below and arching above (figureIII:1) and have an average height between 10-20 m.\n",
      "\n",
      "I can't find the final answer but you may want to check the following links.\n",
      "\n",
      "Question: What is the name of the species of bamboo that is cultivated extensively in many parts of the world?\n",
      "\n",
      "Helpful Answer:\n",
      "\n"
     ]
    }
   ],
   "source": [
    "query = \"\"\"In which town and region can native bamboo be found?\"\"\"\n",
    "# Call the QA chain with our query.\n",
    "result = retrievalQA.invoke({\"query\": query})\n",
    "print(result['result'])"
   ]
  },
  {
   "cell_type": "code",
   "execution_count": 21,
   "metadata": {},
   "outputs": [
    {
     "name": "stdout",
     "output_type": "stream",
     "text": [
      "There are 3 documents retrieved which are relevant to the query.\n",
      "****************************************************************************************************\n",
      "Relevant Document #1:\n",
      "Source file: documents\\BIBOUM CHARLENE FINAL CORRECTED COPY.pdf, Page: 41\n",
      "Content: 31 \n",
      "CHAPTER III METHODOLOGY \n",
      "III.1 Materials \n",
      "• Bamboo (Bambusa vulgaris): \n",
      "Bambusa vulgaris also known as Common Bamboo is a giant tropical and subtropical \n",
      "clumping bamboo native to southern China and Madagascar. This species is cultivated \n",
      "extensively in many parts of the world. In Cameroon, it is found in the North West, South \n",
      "West, West, Littoral, East, and Center regions. Bambusa vulgaris culms are bright green, \n",
      "glossy, erect below and arching above (figureIII:1) and have an average height between 10-\n",
      "20 m. Internodes are 25-35 cm long, and have an average diameter of 4-10 cm. Wall \n",
      "thickness ranges between 7-15 mm. Bambusa vulgaris often occurs spontaneously or\n",
      "----------------------------------------------------------------------------------------------------\n",
      "There are 3 documents retrieved which are relevant to the query.\n",
      "Relevant Document #2:\n",
      "Source file: documents\\BIBOUM CHARLENE FINAL CORRECTED COPY.pdf, Page: 11\n",
      "Content: 1 \n",
      "CHAPTER I INTRODUCTION \n",
      "I.1 Background study  \n",
      "Bamboo is a fast-growing grass found in the tropical and mid temperate regions, growing three \n",
      "times faster than most other plant species due to a unique rhizome-dependent mechanism. It is \n",
      "a giant among the herbs; their forests are one of the most easily accessible resources for many \n",
      "communities (Panel N.M, 2022 ). It is widely recognized as one of the most important non -\n",
      "timber forest resource due to its high socio -economic benefits. It is estimated that there are  \n",
      "more than 1200 species growing in about 14.5 million hectares worldwide. Most of bamboo\n",
      "----------------------------------------------------------------------------------------------------\n",
      "There are 3 documents retrieved which are relevant to the query.\n",
      "Relevant Document #3:\n",
      "Source file: documents\\BIBOUM CHARLENE FINAL CORRECTED COPY.pdf, Page: 20\n",
      "Content: 10 \n",
      " \n",
      " \n",
      " \n",
      " \n",
      " \n",
      " \n",
      " \n",
      " \n",
      " \n",
      " \n",
      " \n",
      " \n",
      " \n",
      " \n",
      " \n",
      " \n",
      " \n",
      " \n",
      " \n",
      " \n",
      " \n",
      "Figure II:2 Distribution map of bamboo species in Cameroon (INBAR, 2010)\n",
      "----------------------------------------------------------------------------------------------------\n",
      "There are 3 documents retrieved which are relevant to the query.\n"
     ]
    }
   ],
   "source": [
    "relevant_docs = result['source_documents']\n",
    "print(f'There are {len(relevant_docs)} documents retrieved which are relevant to the query.')\n",
    "print(\"*\" * 100)\n",
    "for i, doc in enumerate(relevant_docs):\n",
    "    print(f\"Relevant Document #{i+1}:\\nSource file: {doc.metadata['source']}, Page: {doc.metadata['page']}\\nContent: {doc.page_content}\")\n",
    "    print(\"-\"*100)\n",
    "    print(f'There are {len(relevant_docs)} documents retrieved which are relevant to the query.')"
   ]
  },
  {
   "cell_type": "code",
   "execution_count": 22,
   "metadata": {},
   "outputs": [
    {
     "name": "stderr",
     "output_type": "stream",
     "text": [
      "e:\\Work\\ML\\llm_practice\\llm_venv\\lib\\site-packages\\transformers\\generation\\configuration_utils.py:590: UserWarning: `do_sample` is set to `False`. However, `temperature` is set to `0.1` -- this flag is only used in sample-based generation modes. You should set `do_sample=True` or unset `temperature`.\n",
      "  warnings.warn(\n"
     ]
    },
    {
     "name": "stdout",
     "output_type": "stream",
     "text": [
      "Use the following pieces of context to answer the question at the end. Please follow the following rules:\n",
      "1. If you don't know the answer, don't try to make up an answer. Just say \"I can't find the final answer but you may want to check the following links\".\n",
      "2. If you find the answer, write the answer in a concise way with five sentences maximum.\n",
      "\n",
      "Context: 11 \n",
      "II.3 Bamboo as a construction material \n",
      "II.3.1 History of bamboo as construction material \n",
      "Documented on bamboo dates back 7000 years, but the plant has existed even before humans. \n",
      "Over 5000 years ago, Chinese people used bamboo to construct treehouses. Bamboo was used \n",
      "as an interior building material with the Ming Dynasty starting in the 1300s. It was used for \n",
      "bedding and flooring in homes. This use further established bamboo as a building material for \n",
      "indoor and outdoor. In the late 1990s, inventors in C hina developed a treatment that  made \n",
      "bamboo look and feel like hardwood . By cutting and planning the bamboo stalks into planks,\n",
      "\n",
      "I.3 Research Question \n",
      "• What is bamboo and how can bamboo be used in construction? \n",
      "• How to prepare the material for use as a building material? \n",
      "• What physical and mechanical properties does bamboo have? \n",
      "• How does bamboo react to load?\n",
      "\n",
      "v \n",
      "ABSTRACT \n",
      "This project is a study of bamboo as a construction material and the design a hut which could \n",
      "be used as a sample for huts of a bamboo beach resort. At this time, an increase in the prices \n",
      "of construction materials make construction of new structures very costly, thus bamboo can be \n",
      "used as an alternative construction material. Bamboo is one of the most accessible and cheap \n",
      "materials in Cameroon. There are various species in Cameroon, with Bambusa vulgaris being \n",
      "the most appropriate for construction. In this project, physical and mechanical properties of \n",
      "Bambusa vulgaris were gotten after performing laboratory tests at Explora laboratory, Douala.\n",
      "\n",
      "Question: Which dynasty in the 1300s started using bamboo as a construction material?\n",
      "\n",
      "Helpful Answer:\n",
      "II.3 Bamboo as a construction material \n",
      "II.3.1 History of bamboo as construction material \n",
      "Documented on bamboo dates back 7000 years, but the plant has existed even before humans. \n",
      "Over 5000 years ago, Chinese people used bamboo to construct treehouses. Bamboo was used \n",
      "as an interior building material with the Ming Dynasty starting in the 1300s. It was used for \n",
      "bedding and flooring in homes. This use further established bamboo as a building material for \n",
      "indoor and outdoor. In the late 1990s, inventors in C hina developed a treatment that  made \n",
      "bamboo look and feel like hardwood. By cutting and planning the bamboo stalks into planks,\n",
      "\n",
      "I.3 Research Question \n",
      "• What is bamboo and how can bamboo be used in construction? \n",
      "• How to prepare the material for use as a building material? \n",
      "• What physical and mechanical properties does bamboo have? \n",
      "• How does bamboo react to load?\n",
      "\n",
      "v \n",
      "ABSTRACT \n",
      "This project is a study of bamboo as a construction material and the design a hut which could \n",
      "be used as a sample for huts of a bamboo beach resort. At this time, an increase in the prices \n",
      "of construction materials make construction of new structures very costly, thus bamboo can be \n",
      "used as an alternative construction material. B\n"
     ]
    }
   ],
   "source": [
    "query = \"\"\"Which dynasty in the 1300s started using bamboo as a construction material?\"\"\"\n",
    "# Call the QA chain with our query.\n",
    "result = retrievalQA.invoke({\"query\": query})\n",
    "print(result['result'])"
   ]
  },
  {
   "cell_type": "code",
   "execution_count": 23,
   "metadata": {},
   "outputs": [
    {
     "name": "stdout",
     "output_type": "stream",
     "text": [
      "There are 3 documents retrieved which are relevant to the query.\n",
      "****************************************************************************************************\n",
      "Relevant Document #1:\n",
      "Source file: documents\\BIBOUM CHARLENE FINAL CORRECTED COPY.pdf, Page: 21\n",
      "Content: 11 \n",
      "II.3 Bamboo as a construction material \n",
      "II.3.1 History of bamboo as construction material \n",
      "Documented on bamboo dates back 7000 years, but the plant has existed even before humans. \n",
      "Over 5000 years ago, Chinese people used bamboo to construct treehouses. Bamboo was used \n",
      "as an interior building material with the Ming Dynasty starting in the 1300s. It was used for \n",
      "bedding and flooring in homes. This use further established bamboo as a building material for \n",
      "indoor and outdoor. In the late 1990s, inventors in C hina developed a treatment that  made \n",
      "bamboo look and feel like hardwood . By cutting and planning the bamboo stalks into planks,\n",
      "----------------------------------------------------------------------------------------------------\n",
      "There are 3 documents retrieved which are relevant to the query.\n",
      "Relevant Document #2:\n",
      "Source file: documents\\BIBOUM CHARLENE FINAL CORRECTED COPY.pdf, Page: 13\n",
      "Content: I.3 Research Question \n",
      "• What is bamboo and how can bamboo be used in construction? \n",
      "• How to prepare the material for use as a building material? \n",
      "• What physical and mechanical properties does bamboo have? \n",
      "• How does bamboo react to load?\n",
      "----------------------------------------------------------------------------------------------------\n",
      "There are 3 documents retrieved which are relevant to the query.\n",
      "Relevant Document #3:\n",
      "Source file: documents\\BIBOUM CHARLENE FINAL CORRECTED COPY.pdf, Page: 4\n",
      "Content: v \n",
      "ABSTRACT \n",
      "This project is a study of bamboo as a construction material and the design a hut which could \n",
      "be used as a sample for huts of a bamboo beach resort. At this time, an increase in the prices \n",
      "of construction materials make construction of new structures very costly, thus bamboo can be \n",
      "used as an alternative construction material. Bamboo is one of the most accessible and cheap \n",
      "materials in Cameroon. There are various species in Cameroon, with Bambusa vulgaris being \n",
      "the most appropriate for construction. In this project, physical and mechanical properties of \n",
      "Bambusa vulgaris were gotten after performing laboratory tests at Explora laboratory, Douala.\n",
      "----------------------------------------------------------------------------------------------------\n",
      "There are 3 documents retrieved which are relevant to the query.\n"
     ]
    }
   ],
   "source": [
    "relevant_docs = result['source_documents']\n",
    "print(f'There are {len(relevant_docs)} documents retrieved which are relevant to the query.')\n",
    "print(\"*\" * 100)\n",
    "for i, doc in enumerate(relevant_docs):\n",
    "    print(f\"Relevant Document #{i+1}:\\nSource file: {doc.metadata['source']}, Page: {doc.metadata['page']}\\nContent: {doc.page_content}\")\n",
    "    print(\"-\"*100)\n",
    "    print(f'There are {len(relevant_docs)} documents retrieved which are relevant to the query.')"
   ]
  }
 ],
 "metadata": {
  "kernelspec": {
   "display_name": "llm_venv",
   "language": "python",
   "name": "python3"
  },
  "language_info": {
   "codemirror_mode": {
    "name": "ipython",
    "version": 3
   },
   "file_extension": ".py",
   "mimetype": "text/x-python",
   "name": "python",
   "nbconvert_exporter": "python",
   "pygments_lexer": "ipython3",
   "version": "3.10.11"
  }
 },
 "nbformat": 4,
 "nbformat_minor": 2
}
